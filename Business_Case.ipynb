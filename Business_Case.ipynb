{
 "cells": [
  {
   "cell_type": "markdown",
   "metadata": {},
   "source": [
    "# Business Understanding"
   ]
  },
  {
   "cell_type": "markdown",
   "metadata": {},
   "source": [
    "Goal is to lower loan risk by identifying patterns from within historical data."
   ]
  },
  {
   "cell_type": "markdown",
   "metadata": {},
   "source": [
    "- predict if someone is going to pay back\n",
    "    - What would be right performance metric- precision, <b>recall</b>, accuracy, F1 score, or something else?\n",
    "        Thus the main concern here is to avoid approving somebody who won't be able to repay or in other words avoid false negatives. This is achieved by a model with a high recall rate.\n",
    "- identify features relevant for paying back or not"
   ]
  },
  {
   "cell_type": "markdown",
   "metadata": {},
   "source": [
    "- Data Cleaning\n",
    "    - Missings\n",
    "    - Consistency\n",
    "    - (Outlier)\n",
    "    - Data Types\n",
    "- EDA\n",
    "    - Scaling/ Normalizing\n",
    "    - Dummies/ Categories\n",
    "    - Correlations\n",
    "- Feature Enginering\n",
    "    - age bins\n",
    "    -\n",
    "- Model 1: Logistic Regression\n",
    "- Model 2: Random Forest\n",
    "- Model 3: Fancy Stuff\n",
    "    - Grid Search\n",
    "- Visualization"
   ]
  }
 ],
 "metadata": {
  "kernelspec": {
   "display_name": "Python 3",
   "language": "python",
   "name": "python3"
  },
  "language_info": {
   "codemirror_mode": {
    "name": "ipython",
    "version": 3
   },
   "file_extension": ".py",
   "mimetype": "text/x-python",
   "name": "python",
   "nbconvert_exporter": "python",
   "pygments_lexer": "ipython3",
   "version": "3.6.6"
  }
 },
 "nbformat": 4,
 "nbformat_minor": 2
}
