{
 "cells": [
  {
   "cell_type": "code",
   "execution_count": 1,
   "metadata": {},
   "outputs": [],
   "source": [
    "import pandas as pd\n",
    "import seaborn as sns\n",
    "import matplotlib.pyplot as plt\n",
    "import numpy as np\n",
    "\n",
    "from sklearn.ensemble import AdaBoostClassifier"
   ]
  },
  {
   "cell_type": "code",
   "execution_count": 2,
   "metadata": {},
   "outputs": [],
   "source": [
    "df = pd.read_csv('application_clean.csv')"
   ]
  },
  {
   "cell_type": "markdown",
   "metadata": {},
   "source": [
    "## Train Test Split"
   ]
  },
  {
   "cell_type": "code",
   "execution_count": 3,
   "metadata": {},
   "outputs": [],
   "source": [
    "from sklearn.model_selection import train_test_split"
   ]
  },
  {
   "cell_type": "code",
   "execution_count": 4,
   "metadata": {},
   "outputs": [],
   "source": [
    "RSEED = 101"
   ]
  },
  {
   "cell_type": "code",
   "execution_count": 5,
   "metadata": {},
   "outputs": [],
   "source": [
    "X = df.drop('target', axis=1)\n",
    "y = df['target']\n",
    "\n",
    "X_train, X_test, y_train, y_test = train_test_split(X, y, random_state=RSEED, stratify=y)"
   ]
  },
  {
   "cell_type": "code",
   "execution_count": 6,
   "metadata": {},
   "outputs": [],
   "source": [
    "df_train = pd.concat([y_train, X_train], axis=1)"
   ]
  },
  {
   "cell_type": "code",
   "execution_count": 7,
   "metadata": {},
   "outputs": [],
   "source": [
    "from sklearn.utils import resample\n",
    "\n",
    "df_0 = df_train[df_train.target==0]\n",
    "df_1 = df_train[df_train.target==1]\n",
    "\n",
    "df_0d2 = resample(df_0, replace=False, n_samples=50000, random_state=5)\n",
    "df_1u2 = resample(df_1, replace=True, n_samples=50000, random_state=5)\n",
    "df_b = pd.concat([df_0d2, df_1u2])\n",
    "\n",
    "df_train = df_b.copy()\n",
    "\n",
    "X_train = df_train.drop('target', axis=1)\n",
    "y_train = df_train['target']"
   ]
  },
  {
   "cell_type": "markdown",
   "metadata": {},
   "source": [
    "## Fill Missing Values"
   ]
  },
  {
   "cell_type": "code",
   "execution_count": 75,
   "metadata": {},
   "outputs": [
    {
     "name": "stderr",
     "output_type": "stream",
     "text": [
      "/Users/lennartjunge/anaconda3/envs/nf/lib/python3.6/site-packages/sklearn/utils/deprecation.py:66: DeprecationWarning: Class Imputer is deprecated; Imputer was deprecated in version 0.20 and will be removed in 0.22. Import impute.SimpleImputer from sklearn instead.\n",
      "  warnings.warn(msg, category=DeprecationWarning)\n"
     ]
    }
   ],
   "source": [
    "from sklearn.preprocessing import MinMaxScaler, Imputer\n",
    "\n",
    "imputer = Imputer(strategy = 'median')\n",
    "\n",
    "scaler = MinMaxScaler(feature_range = (0, 1))\n",
    "\n",
    "imputer.fit(X_train)\n",
    "\n",
    "X_train = imputer.transform(X_train)\n",
    "X_test = imputer.transform(X_test)\n",
    "\n",
    "scaler.fit(X_train)\n",
    "X_train = scaler.transform(X_train)\n",
    "X_test = scaler.transform(X_test)"
   ]
  },
  {
   "cell_type": "markdown",
   "metadata": {},
   "source": [
    "## AdaBoost"
   ]
  },
  {
   "cell_type": "code",
   "execution_count": 76,
   "metadata": {},
   "outputs": [],
   "source": [
    "from sklearn.ensemble import AdaBoostClassifier\n",
    "\n",
    "ada = AdaBoostClassifier(n_estimators=100)\n",
    "ada.fit(X_train, y_train)\n",
    "predictions = ada.predict(X_test)"
   ]
  },
  {
   "cell_type": "code",
   "execution_count": 98,
   "metadata": {},
   "outputs": [
    {
     "data": {
      "text/plain": [
       "Text(0.5, 1.0, 'Confusion matrix for AdaBoost Classifier')"
      ]
     },
     "execution_count": 98,
     "metadata": {},
     "output_type": "execute_result"
    },
    {
     "data": {
      "image/png": "[encoded data removed]",
      "text/plain": [
       "<Figure size 432x288 with 2 Axes>"
      ]
     },
     "metadata": {
      "needs_background": "light"
     },
     "output_type": "display_data"
    }
   ],
   "source": [
    "from sklearn.metrics import confusion_matrix\n",
    "\n",
    "colors = ['k', '#FF4343']\n",
    "colors_r = ['#FF4343', 'k', '#FF4343', 'k']\n",
    "\n",
    "plt.figure()\n",
    "sns.heatmap(confusion_matrix(y_test, predictions), annot=True, annot_kws={\"size\":30}, cmap=colors_r, center=19000, square=True, fmt='.0f')\n",
    "plt.ylabel('True label')\n",
    "plt.xlabel('Predicted label')\n",
    "plt.title('Confusion matrix for AdaBoost Classifier')"
   ]
  },
  {
   "cell_type": "code",
   "execution_count": 11,
   "metadata": {},
   "outputs": [
    {
     "name": "stdout",
     "output_type": "stream",
     "text": [
      "              precision    recall  f1-score   support\n",
      "\n",
      "           0       0.96      0.70      0.81     70668\n",
      "           1       0.16      0.67      0.26      6206\n",
      "\n",
      "    accuracy                           0.70     76874\n",
      "   macro avg       0.56      0.69      0.54     76874\n",
      "weighted avg       0.90      0.70      0.76     76874\n",
      "\n"
     ]
    }
   ],
   "source": [
    "from sklearn.metrics import classification_report\n",
    "print(classification_report(y_test, predictions))"
   ]
  },
  {
   "cell_type": "code",
   "execution_count": 12,
   "metadata": {},
   "outputs": [
    {
     "data": {
      "text/plain": [
       "0.6857206117265813"
      ]
     },
     "execution_count": 12,
     "metadata": {},
     "output_type": "execute_result"
    }
   ],
   "source": [
    "from sklearn.metrics import roc_auc_score\n",
    "roc_auc_score(y_test, predictions)"
   ]
  },
  {
   "cell_type": "markdown",
   "metadata": {},
   "source": [
    "## Hyperparameter Tuning via Randomized Search"
   ]
  },
  {
   "cell_type": "markdown",
   "metadata": {},
   "source": [
    "### Based on smaller Sample"
   ]
  },
  {
   "cell_type": "code",
   "execution_count": 43,
   "metadata": {},
   "outputs": [],
   "source": [
    "df_sample = df.sample(20000)"
   ]
  },
  {
   "cell_type": "code",
   "execution_count": 44,
   "metadata": {},
   "outputs": [],
   "source": [
    "X_sample = df_sample.drop('target', axis=1)\n",
    "y_sample = df_sample['target']\n",
    "\n",
    "X_train_s, X_test_s, y_train_s, y_test_s = train_test_split(X_sample, y_sample, test_size=0.25, random_state=RSEED, stratify=y_sample)"
   ]
  },
  {
   "cell_type": "code",
   "execution_count": 45,
   "metadata": {},
   "outputs": [],
   "source": [
    "df_train_s = pd.concat([y_train_s, X_train_s], axis=1)"
   ]
  },
  {
   "cell_type": "code",
   "execution_count": 46,
   "metadata": {},
   "outputs": [],
   "source": [
    "from sklearn.utils import resample\n",
    "\n",
    "df_0_s = df_train_s[df_train_s.target==0]\n",
    "df_1_s = df_train_s[df_train_s.target==1]\n",
    "\n",
    "df_0d2_s = resample(df_0_s, replace=False, n_samples=10000, random_state=5)\n",
    "df_1u2_s = resample(df_1_s, replace=True, n_samples=10000, random_state=5)\n",
    "df_b_s = pd.concat([df_0d2_s, df_1u2_s])\n",
    "\n",
    "df_train_s = df_b_s.copy()\n",
    "\n",
    "X_train_s = df_train_s.drop('target', axis=1)\n",
    "y_train_s = df_train_s['target']"
   ]
  },
  {
   "cell_type": "code",
   "execution_count": 47,
   "metadata": {},
   "outputs": [
    {
     "name": "stderr",
     "output_type": "stream",
     "text": [
      "/Users/lennartjunge/anaconda3/envs/nf/lib/python3.6/site-packages/sklearn/utils/deprecation.py:66: DeprecationWarning: Class Imputer is deprecated; Imputer was deprecated in version 0.20 and will be removed in 0.22. Import impute.SimpleImputer from sklearn instead.\n",
      "  warnings.warn(msg, category=DeprecationWarning)\n"
     ]
    }
   ],
   "source": [
    "imputer = Imputer(strategy = 'median')\n",
    "\n",
    "scaler = MinMaxScaler(feature_range = (0, 1))\n",
    "\n",
    "imputer.fit(X_train_s)\n",
    "\n",
    "X_train_s = imputer.transform(X_train_s)\n",
    "X_test_s = imputer.transform(X_test_s)\n",
    "\n",
    "scaler.fit(X_train_s)\n",
    "X_train_s = scaler.transform(X_train_s)\n",
    "X_test_s = scaler.transform(X_test_s)"
   ]
  },
  {
   "cell_type": "code",
   "execution_count": 66,
   "metadata": {},
   "outputs": [
    {
     "name": "stdout",
     "output_type": "stream",
     "text": [
      "Fitting 3 folds for each of 10 candidates, totalling 30 fits\n"
     ]
    },
    {
     "name": "stderr",
     "output_type": "stream",
     "text": [
      "[Parallel(n_jobs=-1)]: Using backend LokyBackend with 4 concurrent workers.\n",
      "[Parallel(n_jobs=-1)]: Done  30 out of  30 | elapsed:  6.0min finished\n"
     ]
    },
    {
     "data": {
      "text/plain": [
       "AdaBoostClassifier(algorithm='SAMME.R',\n",
       "                   base_estimator=DecisionTreeClassifier(class_weight=None,\n",
       "                                                         criterion='gini',\n",
       "                                                         max_depth=3,\n",
       "                                                         max_features=None,\n",
       "                                                         max_leaf_nodes=None,\n",
       "                                                         min_impurity_decrease=0.0,\n",
       "                                                         min_impurity_split=None,\n",
       "                                                         min_samples_leaf=1,\n",
       "                                                         min_samples_split=6,\n",
       "                                                         min_weight_fraction_leaf=0.0,\n",
       "                                                         presort=False,\n",
       "                                                         random_state=None,\n",
       "                                                         splitter='best'),\n",
       "                   learning_rate=1.0, n_estimators=500, random_state=101)"
      ]
     },
     "execution_count": 66,
     "metadata": {},
     "output_type": "execute_result"
    }
   ],
   "source": [
    "from sklearn.model_selection import GridSearchCV\n",
    "from sklearn.metrics import make_scorer\n",
    "from sklearn.metrics import fbeta_score\n",
    "from sklearn.tree import DecisionTreeClassifier\n",
    "\n",
    "# TODO: Initialize the classifier\n",
    "estimator = AdaBoostClassifier(base_estimator=DecisionTreeClassifier(), random_state=RSEED)\n",
    "\n",
    "# TODO: Create the parameters list you wish to tune\n",
    "param_grid = {'n_estimators' : [450, 500], \n",
    "              'learning_rate' : [1., 5],\n",
    "              'base_estimator__min_samples_split' : np.arange(6, 12, 2),\n",
    "              'base_estimator__max_depth' : np.arange(1, 4, 1)\n",
    "             }\n",
    "\n",
    "# TODO: Make an fbeta_score scoring object\n",
    "scorer = make_scorer(fbeta_score,beta=0.5)\n",
    "\n",
    "# TODO: Perform grid search on the classifier using 'scorer' as the scoring method\n",
    "grid_search = RandomizedSearchCV(estimator, param_grid, scoring=scorer, n_jobs = -1,\n",
    "                                cv = 3, n_iter = 10, verbose = 1, random_state=RSEED)\n",
    "\n",
    "# TODO: Fit the grid search object to the training data and find the optimal parameters\n",
    "gs_fit = grid_search.fit(X_train_s, y_train_s)\n",
    "\n",
    "# Get the estimator\n",
    "gs_fit.best_estimator_\n",
    "\n",
    "# Make predictions using the unoptimized and model\n",
    "#predictions = (clf.fit(X_train_s, y_train_s)).predict(X_test_s)\n",
    "#best_predictions = best_clf.predict(X_test_s)"
   ]
  },
  {
   "cell_type": "markdown",
   "metadata": {},
   "source": [
    "### Best Model"
   ]
  },
  {
   "cell_type": "code",
   "execution_count": 67,
   "metadata": {},
   "outputs": [],
   "source": [
    "ada_best = AdaBoostClassifier(algorithm='SAMME.R',\n",
    "                   base_estimator=DecisionTreeClassifier(class_weight=None,\n",
    "                                                         criterion='gini',\n",
    "                                                         max_depth=3,\n",
    "                                                         max_features=None,\n",
    "                                                         max_leaf_nodes=None,\n",
    "                                                         min_impurity_decrease=0.0,\n",
    "                                                         min_impurity_split=None,\n",
    "                                                         min_samples_leaf=1,\n",
    "                                                         min_samples_split=6,\n",
    "                                                         min_weight_fraction_leaf=0.0,\n",
    "                                                         presort=False,\n",
    "                                                         random_state=None,\n",
    "                                                         splitter='best'),\n",
    "                   learning_rate=1.0, n_estimators=500, random_state=101)\n",
    "ada_best.fit(X_train, y_train)\n",
    "predictions = ada_best.predict(X_test)"
   ]
  },
  {
   "cell_type": "code",
   "execution_count": 99,
   "metadata": {},
   "outputs": [
    {
     "data": {
      "text/plain": [
       "Text(0.5, 1.0, 'Confusion matrix for AdaBoost Classifier')"
      ]
     },
     "execution_count": 99,
     "metadata": {},
     "output_type": "execute_result"
    },
    {
     "data": {
      "image/png": "[encoded data removed]",
      "text/plain": [
       "<Figure size 432x288 with 2 Axes>"
      ]
     },
     "metadata": {
      "needs_background": "light"
     },
     "output_type": "display_data"
    }
   ],
   "source": [
    "plt.rc('xtick', labelsize=16)\n",
    "plt.rc('ytick', labelsize=16)\n",
    "plt.rc('font', size=16)\n",
    "\n",
    "colors = ['k', '#FF4343']\n",
    "colors_r = ['#FF4343', 'k', '#FF4343', 'k']\n",
    "plt.figure()\n",
    "sns.heatmap(confusion_matrix(y_test, predictions), annot=True, annot_kws={\"size\":30}, cmap=colors_r, center=19100, square=True, fmt='.0f')\n",
    "plt.ylabel('True label')\n",
    "plt.xlabel('Predicted label')\n",
    "plt.title('Confusion matrix for AdaBoost Classifier')"
   ]
  },
  {
   "cell_type": "code",
   "execution_count": 69,
   "metadata": {},
   "outputs": [
    {
     "name": "stdout",
     "output_type": "stream",
     "text": [
      "              precision    recall  f1-score   support\n",
      "\n",
      "           0       0.95      0.73      0.83     70668\n",
      "           1       0.16      0.56      0.25      6206\n",
      "\n",
      "    accuracy                           0.72     76874\n",
      "   macro avg       0.55      0.65      0.54     76874\n",
      "weighted avg       0.89      0.72      0.78     76874\n",
      "\n"
     ]
    }
   ],
   "source": [
    "print(classification_report(y_test, predictions))"
   ]
  },
  {
   "cell_type": "markdown",
   "metadata": {},
   "source": [
    "## Feature Importance"
   ]
  },
  {
   "cell_type": "code",
   "execution_count": 77,
   "metadata": {},
   "outputs": [],
   "source": [
    "X = pd.DataFrame(X)\n",
    "cols = list(df.columns.values)\n",
    "cols.remove('target')\n",
    "X.columns = cols"
   ]
  },
  {
   "cell_type": "code",
   "execution_count": 114,
   "metadata": {},
   "outputs": [],
   "source": [
    "def feature_plot(importances, X_train, y_train):\n",
    "    \n",
    "    # Display the five most important features\n",
    "    indices = np.argsort(importances)[::-1]\n",
    "    columns = X.columns.values[indices[:7]]\n",
    "    values = importances[indices][:7]\n",
    "\n",
    "    # Creat the plot\n",
    "    fig = plt.figure(figsize = (15,8))\n",
    "    plt.title(\"Normalized Weights for First Ten Most Predictive Features\", fontsize = 16)\n",
    "    plt.bar(np.arange(7), values, width = 0.5, align=\"center\", color = '#FF4343', \\\n",
    "          label = \"Feature Weight\")\n",
    "    plt.bar(np.arange(7) - 0.3, np.cumsum(values), width = 0.5, align = \"center\", color = 'k', \\\n",
    "          label = \"Cumulative Feature Weight\")\n",
    "    plt.xticks(np.arange(10), columns, rotation=70)\n",
    "    plt.xlim((-0.5, 6.5))\n",
    "    plt.ylabel(\"Weight\", fontsize = 16)\n",
    "    plt.xlabel(\"Feature\", fontsize = 16)\n",
    "    \n",
    "    plt.rc('xtick', labelsize=16)\n",
    "    plt.rc('ytick', labelsize=16)\n",
    "    plt.rc('font', size=16)\n",
    "    \n",
    "    plt.legend(loc = 'upper center')\n",
    "    plt.tight_layout()\n",
    "    plt.show()  "
   ]
  },
  {
   "cell_type": "code",
   "execution_count": 115,
   "metadata": {},
   "outputs": [
    {
     "data": {
      "image/png": "[encoded data removed]",
      "text/plain": [
       "<Figure size 1080x576 with 1 Axes>"
      ]
     },
     "metadata": {
      "needs_background": "light"
     },
     "output_type": "display_data"
    }
   ],
   "source": [
    "# TODO: Train the supervised model on the training set \n",
    "model = AdaBoostClassifier().fit(X_train,y_train)\n",
    "\n",
    "# TODO: Extract the feature importances\n",
    "importances = model.feature_importances_\n",
    "\n",
    "# Plot\n",
    "feature_plot(importances, X_train, y_train)"
   ]
  },
  {
   "cell_type": "code",
   "execution_count": null,
   "metadata": {},
   "outputs": [],
   "source": []
  },
  {
   "cell_type": "code",
   "execution_count": null,
   "metadata": {},
   "outputs": [],
   "source": []
  },
  {
   "cell_type": "code",
   "execution_count": null,
   "metadata": {},
   "outputs": [],
   "source": []
  },
  {
   "cell_type": "code",
   "execution_count": null,
   "metadata": {},
   "outputs": [],
   "source": []
  }
 ],
 "metadata": {
  "kernelspec": {
   "display_name": "Python 3",
   "language": "python",
   "name": "python3"
  },
  "language_info": {
   "codemirror_mode": {
    "name": "ipython",
    "version": 3
   },
   "file_extension": ".py",
   "mimetype": "text/x-python",
   "name": "python",
   "nbconvert_exporter": "python",
   "pygments_lexer": "ipython3",
   "version": "3.6.6"
  }
 },
 "nbformat": 4,
 "nbformat_minor": 2
}
